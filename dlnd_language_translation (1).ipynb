{
 "cells": [
  {
   "cell_type": "markdown",
   "metadata": {
    "collapsed": true
   },
   "source": [
    "# Language Translation\n",
    "In this project, you’re going to take a peek into the realm of neural network machine translation.  You’ll be training a sequence to sequence model on a dataset of English and French sentences that can translate new sentences from English to French.\n",
    "## Get the Data\n",
    "Since translating the whole language of English to French will take lots of time to train, we have provided you with a small portion of the English corpus."
   ]
  },
  {
   "cell_type": "code",
   "execution_count": 2,
   "metadata": {
    "collapsed": true
   },
   "outputs": [],
   "source": [
    "\"\"\"\n",
    "DON'T MODIFY ANYTHING IN THIS CELL\n",
    "\"\"\"\n",
    "import helper\n",
    "import problem_unittests as tests\n",
    "\n",
    "source_path = 'data/small_vocab_en'\n",
    "target_path = 'data/small_vocab_fr'\n",
    "source_text = helper.load_data(source_path)\n",
    "target_text = helper.load_data(target_path)"
   ]
  },
  {
   "cell_type": "markdown",
   "metadata": {},
   "source": [
    "## Explore the Data\n",
    "Play around with view_sentence_range to view different parts of the data."
   ]
  },
  {
   "cell_type": "code",
   "execution_count": 3,
   "metadata": {},
   "outputs": [
    {
     "name": "stdout",
     "output_type": "stream",
     "text": [
      "Dataset Stats\n",
      "Roughly the number of unique words: 227\n",
      "Number of sentences: 137861\n",
      "Average number of words in a sentence: 13.225277634719028\n",
      "\n",
      "English sentences 0 to 10:\n",
      "new jersey is sometimes quiet during autumn , and it is snowy in april .\n",
      "the united states is usually chilly during july , and it is usually freezing in november .\n",
      "california is usually quiet during march , and it is usually hot in june .\n",
      "the united states is sometimes mild during june , and it is cold in september .\n",
      "your least liked fruit is the grape , but my least liked is the apple .\n",
      "his favorite fruit is the orange , but my favorite is the grape .\n",
      "paris is relaxing during december , but it is usually chilly in july .\n",
      "new jersey is busy during spring , and it is never hot in march .\n",
      "our least liked fruit is the lemon , but my least liked is the grape .\n",
      "the united states is sometimes busy during january , and it is sometimes warm in november .\n",
      "\n",
      "French sentences 0 to 10:\n",
      "new jersey est parfois calme pendant l' automne , et il est neigeux en avril .\n",
      "les états-unis est généralement froid en juillet , et il gèle habituellement en novembre .\n",
      "california est généralement calme en mars , et il est généralement chaud en juin .\n",
      "les états-unis est parfois légère en juin , et il fait froid en septembre .\n",
      "votre moins aimé fruit est le raisin , mais mon moins aimé est la pomme .\n",
      "son fruit préféré est l'orange , mais mon préféré est le raisin .\n",
      "paris est relaxant en décembre , mais il est généralement froid en juillet .\n",
      "new jersey est occupé au printemps , et il est jamais chaude en mars .\n",
      "notre fruit est moins aimé le citron , mais mon moins aimé est le raisin .\n",
      "les états-unis est parfois occupé en janvier , et il est parfois chaud en novembre .\n"
     ]
    }
   ],
   "source": [
    "view_sentence_range = (0, 10)\n",
    "\n",
    "\"\"\"\n",
    "DON'T MODIFY ANYTHING IN THIS CELL\n",
    "\"\"\"\n",
    "import numpy as np\n",
    "\n",
    "print('Dataset Stats')\n",
    "print('Roughly the number of unique words: {}'.format(len({word: None for word in source_text.split()})))\n",
    "\n",
    "sentences = source_text.split('\\n')\n",
    "word_counts = [len(sentence.split()) for sentence in sentences]\n",
    "print('Number of sentences: {}'.format(len(sentences)))\n",
    "print('Average number of words in a sentence: {}'.format(np.average(word_counts)))\n",
    "\n",
    "print()\n",
    "print('English sentences {} to {}:'.format(*view_sentence_range))\n",
    "print('\\n'.join(source_text.split('\\n')[view_sentence_range[0]:view_sentence_range[1]]))\n",
    "print()\n",
    "print('French sentences {} to {}:'.format(*view_sentence_range))\n",
    "print('\\n'.join(target_text.split('\\n')[view_sentence_range[0]:view_sentence_range[1]]))"
   ]
  },
  {
   "cell_type": "markdown",
   "metadata": {},
   "source": [
    "## Implement Preprocessing Function\n",
    "### Text to Word Ids\n",
    "As you did with other RNNs, you must turn the text into a number so the computer can understand it. In the function `text_to_ids()`, you'll turn `source_text` and `target_text` from words to ids.  However, you need to add the `<EOS>` word id at the end of `target_text`.  This will help the neural network predict when the sentence should end.\n",
    "\n",
    "You can get the `<EOS>` word id by doing:\n",
    "```python\n",
    "target_vocab_to_int['<EOS>']\n",
    "```\n",
    "You can get other word ids using `source_vocab_to_int` and `target_vocab_to_int`."
   ]
  },
  {
   "cell_type": "code",
   "execution_count": 4,
   "metadata": {},
   "outputs": [
    {
     "name": "stdout",
     "output_type": "stream",
     "text": [
      "Tests Passed\n"
     ]
    }
   ],
   "source": [
    "def text_to_ids(source_text, target_text, source_vocab_to_int, target_vocab_to_int):\n",
    "    \"\"\"\n",
    "    Convert source and target text to proper word ids\n",
    "    :param source_text: String that contains all the source text.\n",
    "    :param target_text: String that contains all the target text.\n",
    "    :param source_vocab_to_int: Dictionary to go from the source words to an id\n",
    "    :param target_vocab_to_int: Dictionary to go from the target words to an id\n",
    "    :return: A tuple of lists (source_id_text, target_id_text)\n",
    "    \"\"\"\n",
    "    # TODO: Implement Function\n",
    "    \n",
    "    source_id_text = [[source_vocab_to_int[word] for word in sentence.split()] for sentence in source_text.split('\\n')]\n",
    "    target_id_text = [[target_vocab_to_int[word] for word in (sentence+' <EOS> ').split()] for sentence in target_text.split('\\n')]\n",
    "    return source_id_text, target_id_text\n",
    "\n",
    "\"\"\"\n",
    "DON'T MODIFY ANYTHING IN THIS CELL THAT IS BELOW THIS LINE\n",
    "\"\"\"\n",
    "tests.test_text_to_ids(text_to_ids)"
   ]
  },
  {
   "cell_type": "markdown",
   "metadata": {},
   "source": [
    "### Preprocess all the data and save it\n",
    "Running the code cell below will preprocess all the data and save it to file."
   ]
  },
  {
   "cell_type": "code",
   "execution_count": 5,
   "metadata": {
    "collapsed": true
   },
   "outputs": [],
   "source": [
    "\"\"\"\n",
    "DON'T MODIFY ANYTHING IN THIS CELL\n",
    "\"\"\"\n",
    "helper.preprocess_and_save_data(source_path, target_path, text_to_ids)"
   ]
  },
  {
   "cell_type": "markdown",
   "metadata": {},
   "source": [
    "# Check Point\n",
    "This is your first checkpoint. If you ever decide to come back to this notebook or have to restart the notebook, you can start from here. The preprocessed data has been saved to disk."
   ]
  },
  {
   "cell_type": "code",
   "execution_count": 6,
   "metadata": {
    "collapsed": true
   },
   "outputs": [],
   "source": [
    "\"\"\"\n",
    "DON'T MODIFY ANYTHING IN THIS CELL\n",
    "\"\"\"\n",
    "import numpy as np\n",
    "import helper\n",
    "\n",
    "(source_int_text, target_int_text), (source_vocab_to_int, target_vocab_to_int), _ = helper.load_preprocess()"
   ]
  },
  {
   "cell_type": "markdown",
   "metadata": {},
   "source": [
    "### Check the Version of TensorFlow and Access to GPU\n",
    "This will check to make sure you have the correct version of TensorFlow and access to a GPU"
   ]
  },
  {
   "cell_type": "code",
   "execution_count": 7,
   "metadata": {},
   "outputs": [
    {
     "name": "stdout",
     "output_type": "stream",
     "text": [
      "TensorFlow Version: 1.2.1\n",
      "Default GPU Device: /gpu:0\n"
     ]
    }
   ],
   "source": [
    "\"\"\"\n",
    "DON'T MODIFY ANYTHING IN THIS CELL\n",
    "\"\"\"\n",
    "from distutils.version import LooseVersion\n",
    "import warnings\n",
    "import tensorflow as tf\n",
    "from tensorflow.python.layers.core import Dense\n",
    "\n",
    "# Check TensorFlow Version\n",
    "assert LooseVersion(tf.__version__) >= LooseVersion('1.1'), 'Please use TensorFlow version 1.1 or newer'\n",
    "print('TensorFlow Version: {}'.format(tf.__version__))\n",
    "\n",
    "# Check for a GPU\n",
    "if not tf.test.gpu_device_name():\n",
    "    warnings.warn('No GPU found. Please use a GPU to train your neural network.')\n",
    "else:\n",
    "    print('Default GPU Device: {}'.format(tf.test.gpu_device_name()))"
   ]
  },
  {
   "cell_type": "markdown",
   "metadata": {},
   "source": [
    "## Build the Neural Network\n",
    "You'll build the components necessary to build a Sequence-to-Sequence model by implementing the following functions below:\n",
    "- `model_inputs`\n",
    "- `process_decoder_input`\n",
    "- `encoding_layer`\n",
    "- `decoding_layer_train`\n",
    "- `decoding_layer_infer`\n",
    "- `decoding_layer`\n",
    "- `seq2seq_model`\n",
    "\n",
    "### Input\n",
    "Implement the `model_inputs()` function to create TF Placeholders for the Neural Network. It should create the following placeholders:\n",
    "\n",
    "- Input text placeholder named \"input\" using the TF Placeholder name parameter with rank 2.\n",
    "- Targets placeholder with rank 2.\n",
    "- Learning rate placeholder with rank 0.\n",
    "- Keep probability placeholder named \"keep_prob\" using the TF Placeholder name parameter with rank 0.\n",
    "- Target sequence length placeholder named \"target_sequence_length\" with rank 1\n",
    "- Max target sequence length tensor named \"max_target_len\" getting its value from applying tf.reduce_max on the target_sequence_length placeholder. Rank 0.\n",
    "- Source sequence length placeholder named \"source_sequence_length\" with rank 1\n",
    "\n",
    "Return the placeholders in the following the tuple (input, targets, learning rate, keep probability, target sequence length, max target sequence length, source sequence length)"
   ]
  },
  {
   "cell_type": "code",
   "execution_count": 8,
   "metadata": {},
   "outputs": [
    {
     "name": "stdout",
     "output_type": "stream",
     "text": [
      "ERROR:tensorflow:==================================\n",
      "Object was never used (type <class 'tensorflow.python.framework.ops.Operation'>):\n",
      "<tf.Operation 'assert_rank_2/Assert/Assert' type=Assert>\n",
      "If you want to mark it as used call its \"mark_used()\" method.\n",
      "It was originally created here:\n",
      "['File \"C:\\\\ProgramData\\\\Anaconda3\\\\lib\\\\runpy.py\", line 193, in _run_module_as_main\\n    \"__main__\", mod_spec)', 'File \"C:\\\\ProgramData\\\\Anaconda3\\\\lib\\\\runpy.py\", line 85, in _run_code\\n    exec(code, run_globals)', 'File \"C:\\\\ProgramData\\\\Anaconda3\\\\lib\\\\site-packages\\\\ipykernel\\\\__main__.py\", line 3, in <module>\\n    app.launch_new_instance()', 'File \"C:\\\\ProgramData\\\\Anaconda3\\\\lib\\\\site-packages\\\\traitlets\\\\config\\\\application.py\", line 658, in launch_instance\\n    app.start()', 'File \"C:\\\\ProgramData\\\\Anaconda3\\\\lib\\\\site-packages\\\\ipykernel\\\\kernelapp.py\", line 474, in start\\n    ioloop.IOLoop.instance().start()', 'File \"C:\\\\ProgramData\\\\Anaconda3\\\\lib\\\\site-packages\\\\zmq\\\\eventloop\\\\ioloop.py\", line 177, in start\\n    super(ZMQIOLoop, self).start()', 'File \"C:\\\\ProgramData\\\\Anaconda3\\\\lib\\\\site-packages\\\\tornado\\\\ioloop.py\", line 887, in start\\n    handler_func(fd_obj, events)', 'File \"C:\\\\ProgramData\\\\Anaconda3\\\\lib\\\\site-packages\\\\tornado\\\\stack_context.py\", line 275, in null_wrapper\\n    return fn(*args, **kwargs)', 'File \"C:\\\\ProgramData\\\\Anaconda3\\\\lib\\\\site-packages\\\\zmq\\\\eventloop\\\\zmqstream.py\", line 440, in _handle_events\\n    self._handle_recv()', 'File \"C:\\\\ProgramData\\\\Anaconda3\\\\lib\\\\site-packages\\\\zmq\\\\eventloop\\\\zmqstream.py\", line 472, in _handle_recv\\n    self._run_callback(callback, msg)', 'File \"C:\\\\ProgramData\\\\Anaconda3\\\\lib\\\\site-packages\\\\zmq\\\\eventloop\\\\zmqstream.py\", line 414, in _run_callback\\n    callback(*args, **kwargs)', 'File \"C:\\\\ProgramData\\\\Anaconda3\\\\lib\\\\site-packages\\\\tornado\\\\stack_context.py\", line 275, in null_wrapper\\n    return fn(*args, **kwargs)', 'File \"C:\\\\ProgramData\\\\Anaconda3\\\\lib\\\\site-packages\\\\ipykernel\\\\kernelbase.py\", line 276, in dispatcher\\n    return self.dispatch_shell(stream, msg)', 'File \"C:\\\\ProgramData\\\\Anaconda3\\\\lib\\\\site-packages\\\\ipykernel\\\\kernelbase.py\", line 228, in dispatch_shell\\n    handler(stream, idents, msg)', 'File \"C:\\\\ProgramData\\\\Anaconda3\\\\lib\\\\site-packages\\\\ipykernel\\\\kernelbase.py\", line 390, in execute_request\\n    user_expressions, allow_stdin)', 'File \"C:\\\\ProgramData\\\\Anaconda3\\\\lib\\\\site-packages\\\\ipykernel\\\\ipkernel.py\", line 196, in do_execute\\n    res = shell.run_cell(code, store_history=store_history, silent=silent)', 'File \"C:\\\\ProgramData\\\\Anaconda3\\\\lib\\\\site-packages\\\\ipykernel\\\\zmqshell.py\", line 501, in run_cell\\n    return super(ZMQInteractiveShell, self).run_cell(*args, **kwargs)', 'File \"C:\\\\ProgramData\\\\Anaconda3\\\\lib\\\\site-packages\\\\IPython\\\\core\\\\interactiveshell.py\", line 2717, in run_cell\\n    interactivity=interactivity, compiler=compiler, result=result)', 'File \"C:\\\\ProgramData\\\\Anaconda3\\\\lib\\\\site-packages\\\\IPython\\\\core\\\\interactiveshell.py\", line 2827, in run_ast_nodes\\n    if self.run_code(code, result):', 'File \"C:\\\\ProgramData\\\\Anaconda3\\\\lib\\\\site-packages\\\\IPython\\\\core\\\\interactiveshell.py\", line 2881, in run_code\\n    exec(code_obj, self.user_global_ns, self.user_ns)', 'File \"<ipython-input-8-122daf202800>\", line 22, in <module>\\n    tests.test_model_inputs(model_inputs)', 'File \"C:\\\\Work\\\\Deep Learning\\\\Updated Repo from GITHUB\\\\deep-learning-master\\\\language-translation\\\\problem_unittests.py\", line 106, in test_model_inputs\\n    assert tf.assert_rank(lr, 0, message=\\'Learning Rate has wrong rank\\')', 'File \"C:\\\\ProgramData\\\\Anaconda3\\\\lib\\\\site-packages\\\\tensorflow\\\\python\\\\ops\\\\check_ops.py\", line 617, in assert_rank\\n    dynamic_condition, data, summarize)', 'File \"C:\\\\ProgramData\\\\Anaconda3\\\\lib\\\\site-packages\\\\tensorflow\\\\python\\\\ops\\\\check_ops.py\", line 571, in _assert_rank_condition\\n    return control_flow_ops.Assert(condition, data, summarize=summarize)', 'File \"C:\\\\ProgramData\\\\Anaconda3\\\\lib\\\\site-packages\\\\tensorflow\\\\python\\\\util\\\\tf_should_use.py\", line 170, in wrapped\\n    return _add_should_use_warning(fn(*args, **kwargs))', 'File \"C:\\\\ProgramData\\\\Anaconda3\\\\lib\\\\site-packages\\\\tensorflow\\\\python\\\\util\\\\tf_should_use.py\", line 139, in _add_should_use_warning\\n    wrapped = TFShouldUseWarningWrapper(x)', 'File \"C:\\\\ProgramData\\\\Anaconda3\\\\lib\\\\site-packages\\\\tensorflow\\\\python\\\\util\\\\tf_should_use.py\", line 96, in __init__\\n    stack = [s.strip() for s in traceback.format_stack()]']\n",
      "==================================\n",
      "ERROR:tensorflow:==================================\n",
      "Object was never used (type <class 'tensorflow.python.framework.ops.Operation'>):\n",
      "<tf.Operation 'assert_rank_3/Assert/Assert' type=Assert>\n",
      "If you want to mark it as used call its \"mark_used()\" method.\n",
      "It was originally created here:\n",
      "['File \"C:\\\\ProgramData\\\\Anaconda3\\\\lib\\\\runpy.py\", line 193, in _run_module_as_main\\n    \"__main__\", mod_spec)', 'File \"C:\\\\ProgramData\\\\Anaconda3\\\\lib\\\\runpy.py\", line 85, in _run_code\\n    exec(code, run_globals)', 'File \"C:\\\\ProgramData\\\\Anaconda3\\\\lib\\\\site-packages\\\\ipykernel\\\\__main__.py\", line 3, in <module>\\n    app.launch_new_instance()', 'File \"C:\\\\ProgramData\\\\Anaconda3\\\\lib\\\\site-packages\\\\traitlets\\\\config\\\\application.py\", line 658, in launch_instance\\n    app.start()', 'File \"C:\\\\ProgramData\\\\Anaconda3\\\\lib\\\\site-packages\\\\ipykernel\\\\kernelapp.py\", line 474, in start\\n    ioloop.IOLoop.instance().start()', 'File \"C:\\\\ProgramData\\\\Anaconda3\\\\lib\\\\site-packages\\\\zmq\\\\eventloop\\\\ioloop.py\", line 177, in start\\n    super(ZMQIOLoop, self).start()', 'File \"C:\\\\ProgramData\\\\Anaconda3\\\\lib\\\\site-packages\\\\tornado\\\\ioloop.py\", line 887, in start\\n    handler_func(fd_obj, events)', 'File \"C:\\\\ProgramData\\\\Anaconda3\\\\lib\\\\site-packages\\\\tornado\\\\stack_context.py\", line 275, in null_wrapper\\n    return fn(*args, **kwargs)', 'File \"C:\\\\ProgramData\\\\Anaconda3\\\\lib\\\\site-packages\\\\zmq\\\\eventloop\\\\zmqstream.py\", line 440, in _handle_events\\n    self._handle_recv()', 'File \"C:\\\\ProgramData\\\\Anaconda3\\\\lib\\\\site-packages\\\\zmq\\\\eventloop\\\\zmqstream.py\", line 472, in _handle_recv\\n    self._run_callback(callback, msg)', 'File \"C:\\\\ProgramData\\\\Anaconda3\\\\lib\\\\site-packages\\\\zmq\\\\eventloop\\\\zmqstream.py\", line 414, in _run_callback\\n    callback(*args, **kwargs)', 'File \"C:\\\\ProgramData\\\\Anaconda3\\\\lib\\\\site-packages\\\\tornado\\\\stack_context.py\", line 275, in null_wrapper\\n    return fn(*args, **kwargs)', 'File \"C:\\\\ProgramData\\\\Anaconda3\\\\lib\\\\site-packages\\\\ipykernel\\\\kernelbase.py\", line 276, in dispatcher\\n    return self.dispatch_shell(stream, msg)', 'File \"C:\\\\ProgramData\\\\Anaconda3\\\\lib\\\\site-packages\\\\ipykernel\\\\kernelbase.py\", line 228, in dispatch_shell\\n    handler(stream, idents, msg)', 'File \"C:\\\\ProgramData\\\\Anaconda3\\\\lib\\\\site-packages\\\\ipykernel\\\\kernelbase.py\", line 390, in execute_request\\n    user_expressions, allow_stdin)', 'File \"C:\\\\ProgramData\\\\Anaconda3\\\\lib\\\\site-packages\\\\ipykernel\\\\ipkernel.py\", line 196, in do_execute\\n    res = shell.run_cell(code, store_history=store_history, silent=silent)', 'File \"C:\\\\ProgramData\\\\Anaconda3\\\\lib\\\\site-packages\\\\ipykernel\\\\zmqshell.py\", line 501, in run_cell\\n    return super(ZMQInteractiveShell, self).run_cell(*args, **kwargs)', 'File \"C:\\\\ProgramData\\\\Anaconda3\\\\lib\\\\site-packages\\\\IPython\\\\core\\\\interactiveshell.py\", line 2717, in run_cell\\n    interactivity=interactivity, compiler=compiler, result=result)', 'File \"C:\\\\ProgramData\\\\Anaconda3\\\\lib\\\\site-packages\\\\IPython\\\\core\\\\interactiveshell.py\", line 2827, in run_ast_nodes\\n    if self.run_code(code, result):', 'File \"C:\\\\ProgramData\\\\Anaconda3\\\\lib\\\\site-packages\\\\IPython\\\\core\\\\interactiveshell.py\", line 2881, in run_code\\n    exec(code_obj, self.user_global_ns, self.user_ns)', 'File \"<ipython-input-8-122daf202800>\", line 22, in <module>\\n    tests.test_model_inputs(model_inputs)', 'File \"C:\\\\Work\\\\Deep Learning\\\\Updated Repo from GITHUB\\\\deep-learning-master\\\\language-translation\\\\problem_unittests.py\", line 107, in test_model_inputs\\n    assert tf.assert_rank(keep_prob, 0, message=\\'Keep Probability has wrong rank\\')', 'File \"C:\\\\ProgramData\\\\Anaconda3\\\\lib\\\\site-packages\\\\tensorflow\\\\python\\\\ops\\\\check_ops.py\", line 617, in assert_rank\\n    dynamic_condition, data, summarize)', 'File \"C:\\\\ProgramData\\\\Anaconda3\\\\lib\\\\site-packages\\\\tensorflow\\\\python\\\\ops\\\\check_ops.py\", line 571, in _assert_rank_condition\\n    return control_flow_ops.Assert(condition, data, summarize=summarize)', 'File \"C:\\\\ProgramData\\\\Anaconda3\\\\lib\\\\site-packages\\\\tensorflow\\\\python\\\\util\\\\tf_should_use.py\", line 170, in wrapped\\n    return _add_should_use_warning(fn(*args, **kwargs))', 'File \"C:\\\\ProgramData\\\\Anaconda3\\\\lib\\\\site-packages\\\\tensorflow\\\\python\\\\util\\\\tf_should_use.py\", line 139, in _add_should_use_warning\\n    wrapped = TFShouldUseWarningWrapper(x)', 'File \"C:\\\\ProgramData\\\\Anaconda3\\\\lib\\\\site-packages\\\\tensorflow\\\\python\\\\util\\\\tf_should_use.py\", line 96, in __init__\\n    stack = [s.strip() for s in traceback.format_stack()]']\n",
      "==================================\n"
     ]
    },
    {
     "name": "stdout",
     "output_type": "stream",
     "text": [
      "Tests Passed\n"
     ]
    }
   ],
   "source": [
    "def model_inputs():\n",
    "    \"\"\"\n",
    "    Create TF Placeholders for input, targets, learning rate, and lengths of source and target sequences.\n",
    "    :return: Tuple (input, targets, learning rate, keep probability, target sequence length,\n",
    "    max target sequence length, source sequence length)\n",
    "    \"\"\"\n",
    "    # TODO: Implement Function\n",
    "    inputs = tf.placeholder(tf.int32, [None, None], name='input')\n",
    "    targets = tf.placeholder(tf.int32, [None, None], name='targets')\n",
    "    learning_rate = tf.placeholder(tf.float32, name='learning_rate')\n",
    "    keep_prob = tf.placeholder(tf.float32, name='keep_prob')\n",
    "    target_seq_len = tf.placeholder(tf.int32, (None,), name='target_sequence_length')\n",
    "    max_target_len = tf.reduce_max(target_seq_len, name='max_target_len')\n",
    "    source_seq_len = tf.placeholder(tf.int32, (None,), name='source_sequence_length')\n",
    "    \n",
    "    return inputs, targets, learning_rate, keep_prob, target_seq_len, max_target_len, source_seq_len\n",
    "\n",
    "\n",
    "\"\"\"\n",
    "DON'T MODIFY ANYTHING IN THIS CELL THAT IS BELOW THIS LINE\n",
    "\"\"\"\n",
    "tests.test_model_inputs(model_inputs)"
   ]
  },
  {
   "cell_type": "markdown",
   "metadata": {},
   "source": [
    "### Process Decoder Input\n",
    "Implement `process_decoder_input` by removing the last word id from each batch in `target_data` and concat the GO ID to the begining of each batch."
   ]
  },
  {
   "cell_type": "code",
   "execution_count": 9,
   "metadata": {},
   "outputs": [
    {
     "name": "stdout",
     "output_type": "stream",
     "text": [
      "Tests Passed\n"
     ]
    }
   ],
   "source": [
    "def process_decoder_input(target_data, target_vocab_to_int, batch_size):\n",
    "    \"\"\"\n",
    "    Preprocess target data for encoding\n",
    "    :param target_data: Target Placehoder\n",
    "    :param target_vocab_to_int: Dictionary to go from the target words to an id\n",
    "    :param batch_size: Batch Size\n",
    "    :return: Preprocessed target data\n",
    "    \"\"\"\n",
    "    # TODO: Implement Function\n",
    "    ending = tf.strided_slice(target_data, [0, 0], [batch_size, -1], [1, 1])\n",
    "    target_data = tf.concat([tf.fill([batch_size, 1], target_vocab_to_int['<GO>']), ending], 1)\n",
    "    return target_data\n",
    "\n",
    "\"\"\"\n",
    "DON'T MODIFY ANYTHING IN THIS CELL THAT IS BELOW THIS LINE\n",
    "\"\"\"\n",
    "tests.test_process_encoding_input(process_decoder_input)"
   ]
  },
  {
   "cell_type": "markdown",
   "metadata": {},
   "source": [
    "### Encoding\n",
    "Implement `encoding_layer()` to create a Encoder RNN layer:\n",
    " * Embed the encoder input using [`tf.contrib.layers.embed_sequence`](https://www.tensorflow.org/api_docs/python/tf/contrib/layers/embed_sequence)\n",
    " * Construct a [stacked](https://github.com/tensorflow/tensorflow/blob/6947f65a374ebf29e74bb71e36fd82760056d82c/tensorflow/docs_src/tutorials/recurrent.md#stacking-multiple-lstms) [`tf.contrib.rnn.LSTMCell`](https://www.tensorflow.org/api_docs/python/tf/contrib/rnn/LSTMCell) wrapped in a [`tf.contrib.rnn.DropoutWrapper`](https://www.tensorflow.org/api_docs/python/tf/contrib/rnn/DropoutWrapper)\n",
    " * Pass cell and embedded input to [`tf.nn.dynamic_rnn()`](https://www.tensorflow.org/api_docs/python/tf/nn/dynamic_rnn)"
   ]
  },
  {
   "cell_type": "code",
   "execution_count": 10,
   "metadata": {
    "scrolled": false
   },
   "outputs": [
    {
     "name": "stdout",
     "output_type": "stream",
     "text": [
      "Tests Passed\n"
     ]
    }
   ],
   "source": [
    "from imp import reload\n",
    "reload(tests)\n",
    "\n",
    "def encoding_layer(rnn_inputs, rnn_size, num_layers, keep_prob, \n",
    "                   source_sequence_length, source_vocab_size, \n",
    "                   encoding_embedding_size):\n",
    "    \"\"\"\n",
    "    Create encoding layer\n",
    "    :param rnn_inputs: Inputs for the RNN\n",
    "    :param rnn_size: RNN Size\n",
    "    :param num_layers: Number of layers\n",
    "    :param keep_prob: Dropout keep probability\n",
    "    :param source_sequence_length: a list of the lengths of each sequence in the batch\n",
    "    :param source_vocab_size: vocabulary size of source data\n",
    "    :param encoding_embedding_size: embedding size of source data\n",
    "    :return: tuple (RNN output, RNN state)\n",
    "    \"\"\"\n",
    "    # TODO: Implement Function\n",
    "    embedded_encoder_input = tf.contrib.layers.embed_sequence(rnn_inputs, source_vocab_size, encoding_embedding_size)\n",
    "    \n",
    "    def make_cell(rnn_size):\n",
    "        lstm = tf.contrib.rnn.LSTMCell(rnn_size, initializer=tf.random_uniform_initializer(-0.1, 0.1, seed=2))\n",
    "        drop = tf.contrib.rnn.DropoutWrapper(lstm, output_keep_prob=keep_prob)\n",
    "        return drop\n",
    "    \n",
    "    cell = tf.contrib.rnn.MultiRNNCell([make_cell(rnn_size) for _ in range(num_layers)])\n",
    "    \n",
    "    rnn_out, rnn_state = tf.nn.dynamic_rnn(cell, embedded_encoder_input, \n",
    "                                           sequence_length=source_sequence_length, \n",
    "                                           dtype=tf.float32)\n",
    "    \n",
    "    return rnn_out, rnn_state\n",
    "\n",
    "\"\"\"\n",
    "DON'T MODIFY ANYTHING IN THIS CELL THAT IS BELOW THIS LINE\n",
    "\"\"\"\n",
    "tests.test_encoding_layer(encoding_layer)"
   ]
  },
  {
   "cell_type": "markdown",
   "metadata": {},
   "source": [
    "### Decoding - Training\n",
    "Create a training decoding layer:\n",
    "* Create a [`tf.contrib.seq2seq.TrainingHelper`](https://www.tensorflow.org/api_docs/python/tf/contrib/seq2seq/TrainingHelper) \n",
    "* Create a [`tf.contrib.seq2seq.BasicDecoder`](https://www.tensorflow.org/api_docs/python/tf/contrib/seq2seq/BasicDecoder)\n",
    "* Obtain the decoder outputs from [`tf.contrib.seq2seq.dynamic_decode`](https://www.tensorflow.org/api_docs/python/tf/contrib/seq2seq/dynamic_decode)"
   ]
  },
  {
   "cell_type": "code",
   "execution_count": 31,
   "metadata": {},
   "outputs": [
    {
     "name": "stdout",
     "output_type": "stream",
     "text": [
      "Tests Passed\n"
     ]
    }
   ],
   "source": [
    "\n",
    "def decoding_layer_train(encoder_state, dec_cell, dec_embed_input, \n",
    "                         target_sequence_length, max_summary_length, \n",
    "                         output_layer, keep_prob):\n",
    "    \"\"\"\n",
    "    Create a decoding layer for training\n",
    "    :param encoder_state: Encoder State\n",
    "    :param dec_cell: Decoder RNN Cell\n",
    "    :param dec_embed_input: Decoder embedded input\n",
    "    :param target_sequence_length: The lengths of each sequence in the target batch\n",
    "    :param max_summary_length: The length of the longest sequence in the batch\n",
    "    :param output_layer: Function to apply the output layer\n",
    "    :param keep_prob: Dropout keep probability\n",
    "    :return: BasicDecoderOutput containing training logits and sample_id\n",
    "    \"\"\"\n",
    "    # TODO: Implement Function\n",
    "    train_helper = tf.contrib.seq2seq.TrainingHelper(inputs=dec_embed_input, sequence_length=target_sequence_length, time_major=False)\n",
    "    \n",
    "    dec_cell = tf.contrib.rnn.DropoutWrapper(dec_cell, output_keep_prob=keep_prob)\n",
    "\n",
    "    training_decoder = tf.contrib.seq2seq.BasicDecoder(dec_cell,\n",
    "                                                       train_helper,\n",
    "                                                       encoder_state,\n",
    "                                                       output_layer)\n",
    "    \n",
    "    \"training_decoder = tf.contrib.seq2seq.BasicDecoder(dec_cell, train_helper, encoder_state, output_layer)\"\n",
    "    dec_outputs, _, _ = tf.contrib.seq2seq.dynamic_decode(training_decoder, impute_finished=True, maximum_iterations=max_summary_length)\n",
    "    return dec_outputs\n",
    "\n",
    "\n",
    "\"\"\"\n",
    "DON'T MODIFY ANYTHING IN THIS CELL THAT IS BELOW THIS LINE\n",
    "\"\"\"\n",
    "tests.test_decoding_layer_train(decoding_layer_train)"
   ]
  },
  {
   "cell_type": "markdown",
   "metadata": {},
   "source": [
    "### Decoding - Inference\n",
    "Create inference decoder:\n",
    "* Create a [`tf.contrib.seq2seq.GreedyEmbeddingHelper`](https://www.tensorflow.org/api_docs/python/tf/contrib/seq2seq/GreedyEmbeddingHelper)\n",
    "* Create a [`tf.contrib.seq2seq.BasicDecoder`](https://www.tensorflow.org/api_docs/python/tf/contrib/seq2seq/BasicDecoder)\n",
    "* Obtain the decoder outputs from [`tf.contrib.seq2seq.dynamic_decode`](https://www.tensorflow.org/api_docs/python/tf/contrib/seq2seq/dynamic_decode)"
   ]
  },
  {
   "cell_type": "code",
   "execution_count": 34,
   "metadata": {
    "scrolled": true
   },
   "outputs": [
    {
     "name": "stdout",
     "output_type": "stream",
     "text": [
      "Tests Passed\n"
     ]
    }
   ],
   "source": [
    "def decoding_layer_infer(encoder_state, dec_cell, dec_embeddings, start_of_sequence_id,\n",
    "                         end_of_sequence_id, max_target_sequence_length,\n",
    "                         vocab_size, output_layer, batch_size, keep_prob):\n",
    "    \"\"\"\n",
    "    Create a decoding layer for inference\n",
    "    :param encoder_state: Encoder state\n",
    "    :param dec_cell: Decoder RNN Cell\n",
    "    :param dec_embeddings: Decoder embeddings\n",
    "    :param start_of_sequence_id: GO ID\n",
    "    :param end_of_sequence_id: EOS Id\n",
    "    :param max_target_sequence_length: Maximum length of target sequences\n",
    "    :param vocab_size: Size of decoder/target vocabulary\n",
    "    :param decoding_scope: TenorFlow Variable Scope for decoding\n",
    "    :param output_layer: Function to apply the output layer\n",
    "    :param batch_size: Batch size\n",
    "    :param keep_prob: Dropout keep probability\n",
    "    :return: BasicDecoderOutput containing inference logits and sample_id\n",
    "    \"\"\"\n",
    "    # TODO: Implement Function\n",
    "    start_tokens = tf.tile(tf.constant([start_of_sequence_id], dtype=tf.int32), [batch_size], name='start_tokens')\n",
    "    \n",
    "    emb_helper = tf.contrib.seq2seq.GreedyEmbeddingHelper(dec_embeddings, start_tokens, end_of_sequence_id)\n",
    "    inference_decoder = tf.contrib.seq2seq.BasicDecoder(dec_cell, emb_helper, encoder_state, output_layer=output_layer)\n",
    "    dec_out, _, _ = tf.contrib.seq2seq.dynamic_decode(inference_decoder,\n",
    "                                                   impute_finished=True, maximum_iterations=max_target_sequence_length)\n",
    "    return dec_out\n",
    "\n",
    "\n",
    "\n",
    "\n",
    "\"\"\"\n",
    "DON'T MODIFY ANYTHING IN THIS CELL THAT IS BELOW THIS LINE\n",
    "\"\"\"\n",
    "tests.test_decoding_layer_infer(decoding_layer_infer)"
   ]
  },
  {
   "cell_type": "markdown",
   "metadata": {},
   "source": [
    "### Build the Decoding Layer\n",
    "Implement `decoding_layer()` to create a Decoder RNN layer.\n",
    "\n",
    "* Embed the target sequences\n",
    "* Construct the decoder LSTM cell (just like you constructed the encoder cell above)\n",
    "* Create an output layer to map the outputs of the decoder to the elements of our vocabulary\n",
    "* Use the your `decoding_layer_train(encoder_state, dec_cell, dec_embed_input, target_sequence_length, max_target_sequence_length, output_layer, keep_prob)` function to get the training logits.\n",
    "* Use your `decoding_layer_infer(encoder_state, dec_cell, dec_embeddings, start_of_sequence_id, end_of_sequence_id, max_target_sequence_length, vocab_size, output_layer, batch_size, keep_prob)` function to get the inference logits.\n",
    "\n",
    "Note: You'll need to use [tf.variable_scope](https://www.tensorflow.org/api_docs/python/tf/variable_scope) to share variables between training and inference."
   ]
  },
  {
   "cell_type": "code",
   "execution_count": 40,
   "metadata": {},
   "outputs": [
    {
     "name": "stdout",
     "output_type": "stream",
     "text": [
      "Tests Passed\n"
     ]
    }
   ],
   "source": [
    "def decoding_layer(dec_input, encoder_state,\n",
    "                   target_sequence_length, max_target_sequence_length,\n",
    "                   rnn_size,\n",
    "                   num_layers, target_vocab_to_int, target_vocab_size,\n",
    "                   batch_size, keep_prob, decoding_embedding_size):\n",
    "    \"\"\"\n",
    "    Create decoding layer\n",
    "    :param dec_input: Decoder input\n",
    "    :param encoder_state: Encoder state\n",
    "    :param target_sequence_length: The lengths of each sequence in the target batch\n",
    "    :param max_target_sequence_length: Maximum length of target sequences\n",
    "    :param rnn_size: RNN Size\n",
    "    :param num_layers: Number of layers\n",
    "    :param target_vocab_to_int: Dictionary to go from the target words to an id\n",
    "    :param target_vocab_size: Size of target vocabulary\n",
    "    :param batch_size: The size of the batch\n",
    "    :param keep_prob: Dropout keep probability\n",
    "    :param decoding_embedding_size: Decoding embedding size\n",
    "    :return: Tuple of (Training BasicDecoderOutput, Inference BasicDecoderOutput)\n",
    "    \"\"\"\n",
    "    # TODO: Implement Function\n",
    "    dec_embeddings = tf.Variable(tf.random_uniform([target_vocab_size, decoding_embedding_size]))\n",
    "    dec_embed_input = tf.nn.embedding_lookup(dec_embeddings, dec_input)\n",
    "    \n",
    "    # RNN cell\n",
    "    def make_cell(rnn_size):\n",
    "        lstm = tf.contrib.rnn.LSTMCell(rnn_size, initializer=tf.random_uniform_initializer(-0.1, 0.1, seed=2))\n",
    "        drop = tf.contrib.rnn.DropoutWrapper(lstm, output_keep_prob=keep_prob)\n",
    "        return drop\n",
    "    cell = tf.contrib.rnn.MultiRNNCell([make_cell(rnn_size) for _ in range(num_layers)])\n",
    "    \n",
    "    output_layer = Dense(target_vocab_size, kernel_initializer = tf.truncated_normal_initializer(mean = 0.0, stddev=0.1))\n",
    "    \n",
    "    with tf.variable_scope(\"decode\") as decoding_scope:\n",
    "        train_dec_out = decoding_layer_train(encoder_state, \n",
    "                                             cell, \n",
    "                                             dec_embed_input, \n",
    "                                             target_sequence_length, \n",
    "                                             max_target_sequence_length, \n",
    "                                             output_layer, \n",
    "                                             keep_prob)\n",
    "    \n",
    "        decoding_scope.reuse_variables()\n",
    "        infer_dec_out = decoding_layer_infer(encoder_state, \n",
    "                                             cell, \n",
    "                                             dec_embeddings, \n",
    "                                             target_vocab_to_int['<GO>'], \n",
    "                                             target_vocab_to_int['<EOS>'], \n",
    "                                             max_target_sequence_length, \n",
    "                                             target_vocab_size, \n",
    "                                             output_layer, \n",
    "                                             batch_size, \n",
    "                                             keep_prob)\n",
    "    \n",
    "    return train_dec_out, infer_dec_out\n",
    "\n",
    "\n",
    "\n",
    "\"\"\"\n",
    "DON'T MODIFY ANYTHING IN THIS CELL THAT IS BELOW THIS LINE\n",
    "\"\"\"\n",
    "tests.test_decoding_layer(decoding_layer)"
   ]
  },
  {
   "cell_type": "markdown",
   "metadata": {},
   "source": [
    "### Build the Neural Network\n",
    "Apply the functions you implemented above to:\n",
    "\n",
    "- Encode the input using your `encoding_layer(rnn_inputs, rnn_size, num_layers, keep_prob,  source_sequence_length, source_vocab_size, encoding_embedding_size)`.\n",
    "- Process target data using your `process_decoder_input(target_data, target_vocab_to_int, batch_size)` function.\n",
    "- Decode the encoded input using your `decoding_layer(dec_input, enc_state, target_sequence_length, max_target_sentence_length, rnn_size, num_layers, target_vocab_to_int, target_vocab_size, batch_size, keep_prob, dec_embedding_size)` function."
   ]
  },
  {
   "cell_type": "code",
   "execution_count": 41,
   "metadata": {},
   "outputs": [
    {
     "name": "stdout",
     "output_type": "stream",
     "text": [
      "Tests Passed\n"
     ]
    }
   ],
   "source": [
    "def seq2seq_model(input_data, target_data, keep_prob, batch_size,\n",
    "                  source_sequence_length, target_sequence_length,\n",
    "                  max_target_sentence_length,\n",
    "                  source_vocab_size, target_vocab_size,\n",
    "                  enc_embedding_size, dec_embedding_size,\n",
    "                  rnn_size, num_layers, target_vocab_to_int):\n",
    "    \"\"\"\n",
    "    Build the Sequence-to-Sequence part of the neural network\n",
    "    :param input_data: Input placeholder\n",
    "    :param target_data: Target placeholder\n",
    "    :param keep_prob: Dropout keep probability placeholder\n",
    "    :param batch_size: Batch Size\n",
    "    :param source_sequence_length: Sequence Lengths of source sequences in the batch\n",
    "    :param target_sequence_length: Sequence Lengths of target sequences in the batch\n",
    "    :param source_vocab_size: Source vocabulary size\n",
    "    :param target_vocab_size: Target vocabulary size\n",
    "    :param enc_embedding_size: Decoder embedding size\n",
    "    :param dec_embedding_size: Encoder embedding size\n",
    "    :param rnn_size: RNN Size\n",
    "    :param num_layers: Number of layers\n",
    "    :param target_vocab_to_int: Dictionary to go from the target words to an id\n",
    "    :return: Tuple of (Training BasicDecoderOutput, Inference BasicDecoderOutput)\n",
    "    \"\"\"\n",
    "    # TODO: Implement Function\n",
    "    _, enc_state = encoding_layer(input_data, rnn_size, num_layers, keep_prob, source_sequence_length, \n",
    "                                  source_vocab_size, enc_embedding_size)\n",
    "    \n",
    "    dec_input = process_decoder_input(target_data, target_vocab_to_int, batch_size)\n",
    "    \n",
    "    train_dec_out, infer_dec_out = decoding_layer(dec_input, enc_state, target_sequence_length,max_target_sentence_length, \n",
    "                                                  rnn_size, num_layers, target_vocab_to_int, target_vocab_size, \n",
    "                                                  batch_size, keep_prob,dec_embedding_size)\n",
    "    return train_dec_out, infer_dec_out\n",
    "\n",
    "\n",
    "\"\"\"\n",
    "DON'T MODIFY ANYTHING IN THIS CELL THAT IS BELOW THIS LINE\n",
    "\"\"\"\n",
    "tests.test_seq2seq_model(seq2seq_model)"
   ]
  },
  {
   "cell_type": "markdown",
   "metadata": {},
   "source": [
    "## Neural Network Training\n",
    "### Hyperparameters\n",
    "Tune the following parameters:\n",
    "\n",
    "- Set `epochs` to the number of epochs.\n",
    "- Set `batch_size` to the batch size.\n",
    "- Set `rnn_size` to the size of the RNNs.\n",
    "- Set `num_layers` to the number of layers.\n",
    "- Set `encoding_embedding_size` to the size of the embedding for the encoder.\n",
    "- Set `decoding_embedding_size` to the size of the embedding for the decoder.\n",
    "- Set `learning_rate` to the learning rate.\n",
    "- Set `keep_probability` to the Dropout keep probability\n",
    "- Set `display_step` to state how many steps between each debug output statement"
   ]
  },
  {
   "cell_type": "code",
   "execution_count": 42,
   "metadata": {
    "collapsed": true
   },
   "outputs": [],
   "source": [
    "# Number of Epochs\n",
    "epochs = 10\n",
    "# Batch Size\n",
    "batch_size = 256\n",
    "# RNN Size\n",
    "rnn_size = 256\n",
    "# Number of Layers\n",
    "num_layers = 2\n",
    "# Embedding Size\n",
    "encoding_embedding_size = 128\n",
    "decoding_embedding_size = 128\n",
    "# Learning Rate\n",
    "learning_rate = 0.001\n",
    "# Dropout Keep Probability\n",
    "keep_probability = 0.5\n",
    "display_step = 20"
   ]
  },
  {
   "cell_type": "markdown",
   "metadata": {},
   "source": [
    "### Build the Graph\n",
    "Build the graph using the neural network you implemented."
   ]
  },
  {
   "cell_type": "code",
   "execution_count": 43,
   "metadata": {
    "collapsed": true
   },
   "outputs": [],
   "source": [
    "\"\"\"\n",
    "DON'T MODIFY ANYTHING IN THIS CELL\n",
    "\"\"\"\n",
    "save_path = 'checkpoints/dev'\n",
    "(source_int_text, target_int_text), (source_vocab_to_int, target_vocab_to_int), _ = helper.load_preprocess()\n",
    "max_target_sentence_length = max([len(sentence) for sentence in source_int_text])\n",
    "\n",
    "train_graph = tf.Graph()\n",
    "with train_graph.as_default():\n",
    "    input_data, targets, lr, keep_prob, target_sequence_length, max_target_sequence_length, source_sequence_length = model_inputs()\n",
    "\n",
    "    #sequence_length = tf.placeholder_with_default(max_target_sentence_length, None, name='sequence_length')\n",
    "    input_shape = tf.shape(input_data)\n",
    "\n",
    "    train_logits, inference_logits = seq2seq_model(tf.reverse(input_data, [-1]),\n",
    "                                                   targets,\n",
    "                                                   keep_prob,\n",
    "                                                   batch_size,\n",
    "                                                   source_sequence_length,\n",
    "                                                   target_sequence_length,\n",
    "                                                   max_target_sequence_length,\n",
    "                                                   len(source_vocab_to_int),\n",
    "                                                   len(target_vocab_to_int),\n",
    "                                                   encoding_embedding_size,\n",
    "                                                   decoding_embedding_size,\n",
    "                                                   rnn_size,\n",
    "                                                   num_layers,\n",
    "                                                   target_vocab_to_int)\n",
    "\n",
    "\n",
    "    training_logits = tf.identity(train_logits.rnn_output, name='logits')\n",
    "    inference_logits = tf.identity(inference_logits.sample_id, name='predictions')\n",
    "\n",
    "    masks = tf.sequence_mask(target_sequence_length, max_target_sequence_length, dtype=tf.float32, name='masks')\n",
    "\n",
    "    with tf.name_scope(\"optimization\"):\n",
    "        # Loss function\n",
    "        cost = tf.contrib.seq2seq.sequence_loss(\n",
    "            training_logits,\n",
    "            targets,\n",
    "            masks)\n",
    "\n",
    "        # Optimizer\n",
    "        optimizer = tf.train.AdamOptimizer(lr)\n",
    "\n",
    "        # Gradient Clipping\n",
    "        gradients = optimizer.compute_gradients(cost)\n",
    "        capped_gradients = [(tf.clip_by_value(grad, -1., 1.), var) for grad, var in gradients if grad is not None]\n",
    "        train_op = optimizer.apply_gradients(capped_gradients)\n"
   ]
  },
  {
   "cell_type": "markdown",
   "metadata": {},
   "source": [
    "Batch and pad the source and target sequences"
   ]
  },
  {
   "cell_type": "code",
   "execution_count": 44,
   "metadata": {
    "collapsed": true
   },
   "outputs": [],
   "source": [
    "\"\"\"\n",
    "DON'T MODIFY ANYTHING IN THIS CELL\n",
    "\"\"\"\n",
    "def pad_sentence_batch(sentence_batch, pad_int):\n",
    "    \"\"\"Pad sentences with <PAD> so that each sentence of a batch has the same length\"\"\"\n",
    "    max_sentence = max([len(sentence) for sentence in sentence_batch])\n",
    "    return [sentence + [pad_int] * (max_sentence - len(sentence)) for sentence in sentence_batch]\n",
    "\n",
    "\n",
    "def get_batches(sources, targets, batch_size, source_pad_int, target_pad_int):\n",
    "    \"\"\"Batch targets, sources, and the lengths of their sentences together\"\"\"\n",
    "    for batch_i in range(0, len(sources)//batch_size):\n",
    "        start_i = batch_i * batch_size\n",
    "\n",
    "        # Slice the right amount for the batch\n",
    "        sources_batch = sources[start_i:start_i + batch_size]\n",
    "        targets_batch = targets[start_i:start_i + batch_size]\n",
    "\n",
    "        # Pad\n",
    "        pad_sources_batch = np.array(pad_sentence_batch(sources_batch, source_pad_int))\n",
    "        pad_targets_batch = np.array(pad_sentence_batch(targets_batch, target_pad_int))\n",
    "\n",
    "        # Need the lengths for the _lengths parameters\n",
    "        pad_targets_lengths = []\n",
    "        for target in pad_targets_batch:\n",
    "            pad_targets_lengths.append(len(target))\n",
    "\n",
    "        pad_source_lengths = []\n",
    "        for source in pad_sources_batch:\n",
    "            pad_source_lengths.append(len(source))\n",
    "\n",
    "        yield pad_sources_batch, pad_targets_batch, pad_source_lengths, pad_targets_lengths\n"
   ]
  },
  {
   "cell_type": "markdown",
   "metadata": {},
   "source": [
    "### Train\n",
    "Train the neural network on the preprocessed data. If you have a hard time getting a good loss, check the forms to see if anyone is having the same problem."
   ]
  },
  {
   "cell_type": "code",
   "execution_count": 45,
   "metadata": {
    "scrolled": true
   },
   "outputs": [
    {
     "name": "stdout",
     "output_type": "stream",
     "text": [
      "Epoch   0 Batch   20/538 - Train Accuracy: 0.3705, Validation Accuracy: 0.4112, Loss: 3.2524\n",
      "Epoch   0 Batch   40/538 - Train Accuracy: 0.4764, Validation Accuracy: 0.4767, Loss: 2.6052\n",
      "Epoch   0 Batch   60/538 - Train Accuracy: 0.4182, Validation Accuracy: 0.4789, Loss: 2.4701\n",
      "Epoch   0 Batch   80/538 - Train Accuracy: 0.4418, Validation Accuracy: 0.5064, Loss: 2.1998\n",
      "Epoch   0 Batch  100/538 - Train Accuracy: 0.4314, Validation Accuracy: 0.4799, Loss: 1.9189\n",
      "Epoch   0 Batch  120/538 - Train Accuracy: 0.4510, Validation Accuracy: 0.4956, Loss: 1.7726\n",
      "Epoch   0 Batch  140/538 - Train Accuracy: 0.4195, Validation Accuracy: 0.4863, Loss: 1.6969\n",
      "Epoch   0 Batch  160/538 - Train Accuracy: 0.4585, Validation Accuracy: 0.4913, Loss: 1.4509\n",
      "Epoch   0 Batch  180/538 - Train Accuracy: 0.5020, Validation Accuracy: 0.5174, Loss: 1.3964\n",
      "Epoch   0 Batch  200/538 - Train Accuracy: 0.4555, Validation Accuracy: 0.5060, Loss: 1.3260\n",
      "Epoch   0 Batch  220/538 - Train Accuracy: 0.4847, Validation Accuracy: 0.5270, Loss: 1.2313\n",
      "Epoch   0 Batch  240/538 - Train Accuracy: 0.5020, Validation Accuracy: 0.5382, Loss: 1.1855\n",
      "Epoch   0 Batch  260/538 - Train Accuracy: 0.5446, Validation Accuracy: 0.5694, Loss: 1.0891\n",
      "Epoch   0 Batch  280/538 - Train Accuracy: 0.6181, Validation Accuracy: 0.5925, Loss: 0.9851\n",
      "Epoch   0 Batch  300/538 - Train Accuracy: 0.5932, Validation Accuracy: 0.5801, Loss: 0.9372\n",
      "Epoch   0 Batch  320/538 - Train Accuracy: 0.5999, Validation Accuracy: 0.5932, Loss: 0.9058\n",
      "Epoch   0 Batch  340/538 - Train Accuracy: 0.5658, Validation Accuracy: 0.5909, Loss: 0.9195\n",
      "Epoch   0 Batch  360/538 - Train Accuracy: 0.5961, Validation Accuracy: 0.5966, Loss: 0.8917\n",
      "Epoch   0 Batch  380/538 - Train Accuracy: 0.5807, Validation Accuracy: 0.6076, Loss: 0.8404\n",
      "Epoch   0 Batch  400/538 - Train Accuracy: 0.5904, Validation Accuracy: 0.6120, Loss: 0.8018\n",
      "Epoch   0 Batch  420/538 - Train Accuracy: 0.6045, Validation Accuracy: 0.6165, Loss: 0.7746\n",
      "Epoch   0 Batch  440/538 - Train Accuracy: 0.6020, Validation Accuracy: 0.6202, Loss: 0.8242\n",
      "Epoch   0 Batch  460/538 - Train Accuracy: 0.5882, Validation Accuracy: 0.6172, Loss: 0.7357\n",
      "Epoch   0 Batch  480/538 - Train Accuracy: 0.6276, Validation Accuracy: 0.6138, Loss: 0.7093\n",
      "Epoch   0 Batch  500/538 - Train Accuracy: 0.6250, Validation Accuracy: 0.6243, Loss: 0.6705\n",
      "Epoch   0 Batch  520/538 - Train Accuracy: 0.5979, Validation Accuracy: 0.6241, Loss: 0.7305\n",
      "Epoch   1 Batch   20/538 - Train Accuracy: 0.6058, Validation Accuracy: 0.6325, Loss: 0.6707\n",
      "Epoch   1 Batch   40/538 - Train Accuracy: 0.6547, Validation Accuracy: 0.6328, Loss: 0.6007\n",
      "Epoch   1 Batch   60/538 - Train Accuracy: 0.6291, Validation Accuracy: 0.6484, Loss: 0.6526\n",
      "Epoch   1 Batch   80/538 - Train Accuracy: 0.6209, Validation Accuracy: 0.6461, Loss: 0.6690\n",
      "Epoch   1 Batch  100/538 - Train Accuracy: 0.6303, Validation Accuracy: 0.6637, Loss: 0.6146\n",
      "Epoch   1 Batch  120/538 - Train Accuracy: 0.6285, Validation Accuracy: 0.6578, Loss: 0.5990\n",
      "Epoch   1 Batch  140/538 - Train Accuracy: 0.6023, Validation Accuracy: 0.6568, Loss: 0.6498\n",
      "Epoch   1 Batch  160/538 - Train Accuracy: 0.6436, Validation Accuracy: 0.6708, Loss: 0.5676\n",
      "Epoch   1 Batch  180/538 - Train Accuracy: 0.6855, Validation Accuracy: 0.6687, Loss: 0.5668\n",
      "Epoch   1 Batch  200/538 - Train Accuracy: 0.6660, Validation Accuracy: 0.6664, Loss: 0.5610\n",
      "Epoch   1 Batch  220/538 - Train Accuracy: 0.6252, Validation Accuracy: 0.6813, Loss: 0.5462\n",
      "Epoch   1 Batch  240/538 - Train Accuracy: 0.6617, Validation Accuracy: 0.6918, Loss: 0.5640\n",
      "Epoch   1 Batch  260/538 - Train Accuracy: 0.6523, Validation Accuracy: 0.6825, Loss: 0.5420\n",
      "Epoch   1 Batch  280/538 - Train Accuracy: 0.6918, Validation Accuracy: 0.6919, Loss: 0.4952\n",
      "Epoch   1 Batch  300/538 - Train Accuracy: 0.6903, Validation Accuracy: 0.7005, Loss: 0.5139\n",
      "Epoch   1 Batch  320/538 - Train Accuracy: 0.6650, Validation Accuracy: 0.6873, Loss: 0.5013\n",
      "Epoch   1 Batch  340/538 - Train Accuracy: 0.6654, Validation Accuracy: 0.7054, Loss: 0.5224\n",
      "Epoch   1 Batch  360/538 - Train Accuracy: 0.6592, Validation Accuracy: 0.6969, Loss: 0.5017\n",
      "Epoch   1 Batch  380/538 - Train Accuracy: 0.6939, Validation Accuracy: 0.7148, Loss: 0.4631\n",
      "Epoch   1 Batch  400/538 - Train Accuracy: 0.7108, Validation Accuracy: 0.7060, Loss: 0.4602\n",
      "Epoch   1 Batch  420/538 - Train Accuracy: 0.7201, Validation Accuracy: 0.7150, Loss: 0.4320\n",
      "Epoch   1 Batch  440/538 - Train Accuracy: 0.7180, Validation Accuracy: 0.7351, Loss: 0.4544\n",
      "Epoch   1 Batch  460/538 - Train Accuracy: 0.7254, Validation Accuracy: 0.7191, Loss: 0.4187\n",
      "Epoch   1 Batch  480/538 - Train Accuracy: 0.7219, Validation Accuracy: 0.7154, Loss: 0.4083\n",
      "Epoch   1 Batch  500/538 - Train Accuracy: 0.7521, Validation Accuracy: 0.7427, Loss: 0.3620\n",
      "Epoch   1 Batch  520/538 - Train Accuracy: 0.7230, Validation Accuracy: 0.7219, Loss: 0.3918\n",
      "Epoch   2 Batch   20/538 - Train Accuracy: 0.7651, Validation Accuracy: 0.7756, Loss: 0.3762\n",
      "Epoch   2 Batch   40/538 - Train Accuracy: 0.7837, Validation Accuracy: 0.7725, Loss: 0.3275\n",
      "Epoch   2 Batch   60/538 - Train Accuracy: 0.7752, Validation Accuracy: 0.7644, Loss: 0.3535\n",
      "Epoch   2 Batch   80/538 - Train Accuracy: 0.7914, Validation Accuracy: 0.7853, Loss: 0.3580\n",
      "Epoch   2 Batch  100/538 - Train Accuracy: 0.8334, Validation Accuracy: 0.8129, Loss: 0.3155\n",
      "Epoch   2 Batch  120/538 - Train Accuracy: 0.8311, Validation Accuracy: 0.8081, Loss: 0.3032\n",
      "Epoch   2 Batch  140/538 - Train Accuracy: 0.8063, Validation Accuracy: 0.8182, Loss: 0.3632\n",
      "Epoch   2 Batch  160/538 - Train Accuracy: 0.7963, Validation Accuracy: 0.8034, Loss: 0.2979\n",
      "Epoch   2 Batch  180/538 - Train Accuracy: 0.8246, Validation Accuracy: 0.8097, Loss: 0.2923\n",
      "Epoch   2 Batch  200/538 - Train Accuracy: 0.8182, Validation Accuracy: 0.8162, Loss: 0.2794\n",
      "Epoch   2 Batch  220/538 - Train Accuracy: 0.8175, Validation Accuracy: 0.8239, Loss: 0.2849\n",
      "Epoch   2 Batch  240/538 - Train Accuracy: 0.8260, Validation Accuracy: 0.8166, Loss: 0.2889\n",
      "Epoch   2 Batch  260/538 - Train Accuracy: 0.7939, Validation Accuracy: 0.8141, Loss: 0.2865\n",
      "Epoch   2 Batch  280/538 - Train Accuracy: 0.8473, Validation Accuracy: 0.8205, Loss: 0.2491\n",
      "Epoch   2 Batch  300/538 - Train Accuracy: 0.8214, Validation Accuracy: 0.8294, Loss: 0.2566\n",
      "Epoch   2 Batch  320/538 - Train Accuracy: 0.8391, Validation Accuracy: 0.8322, Loss: 0.2439\n",
      "Epoch   2 Batch  340/538 - Train Accuracy: 0.8426, Validation Accuracy: 0.8498, Loss: 0.2556\n",
      "Epoch   2 Batch  360/538 - Train Accuracy: 0.8314, Validation Accuracy: 0.8482, Loss: 0.2536\n",
      "Epoch   2 Batch  380/538 - Train Accuracy: 0.8715, Validation Accuracy: 0.8443, Loss: 0.2234\n",
      "Epoch   2 Batch  400/538 - Train Accuracy: 0.8659, Validation Accuracy: 0.8516, Loss: 0.2315\n",
      "Epoch   2 Batch  420/538 - Train Accuracy: 0.8812, Validation Accuracy: 0.8535, Loss: 0.2183\n",
      "Epoch   2 Batch  440/538 - Train Accuracy: 0.8490, Validation Accuracy: 0.8608, Loss: 0.2474\n",
      "Epoch   2 Batch  460/538 - Train Accuracy: 0.8458, Validation Accuracy: 0.8493, Loss: 0.2273\n",
      "Epoch   2 Batch  480/538 - Train Accuracy: 0.8890, Validation Accuracy: 0.8469, Loss: 0.2198\n",
      "Epoch   2 Batch  500/538 - Train Accuracy: 0.8858, Validation Accuracy: 0.8707, Loss: 0.1961\n",
      "Epoch   2 Batch  520/538 - Train Accuracy: 0.8646, Validation Accuracy: 0.8617, Loss: 0.2184\n",
      "Epoch   3 Batch   20/538 - Train Accuracy: 0.8852, Validation Accuracy: 0.8730, Loss: 0.1951\n",
      "Epoch   3 Batch   40/538 - Train Accuracy: 0.8851, Validation Accuracy: 0.8761, Loss: 0.1640\n",
      "Epoch   3 Batch   60/538 - Train Accuracy: 0.8893, Validation Accuracy: 0.8773, Loss: 0.1915\n",
      "Epoch   3 Batch   80/538 - Train Accuracy: 0.8766, Validation Accuracy: 0.8828, Loss: 0.1940\n",
      "Epoch   3 Batch  100/538 - Train Accuracy: 0.9025, Validation Accuracy: 0.8906, Loss: 0.1625\n",
      "Epoch   3 Batch  120/538 - Train Accuracy: 0.9029, Validation Accuracy: 0.8892, Loss: 0.1636\n",
      "Epoch   3 Batch  140/538 - Train Accuracy: 0.8736, Validation Accuracy: 0.8814, Loss: 0.1944\n",
      "Epoch   3 Batch  160/538 - Train Accuracy: 0.8893, Validation Accuracy: 0.8832, Loss: 0.1600\n",
      "Epoch   3 Batch  180/538 - Train Accuracy: 0.9094, Validation Accuracy: 0.8837, Loss: 0.1645\n",
      "Epoch   3 Batch  200/538 - Train Accuracy: 0.9027, Validation Accuracy: 0.8819, Loss: 0.1416\n",
      "Epoch   3 Batch  220/538 - Train Accuracy: 0.8785, Validation Accuracy: 0.8915, Loss: 0.1521\n"
     ]
    },
    {
     "name": "stdout",
     "output_type": "stream",
     "text": [
      "Epoch   3 Batch  240/538 - Train Accuracy: 0.8959, Validation Accuracy: 0.8885, Loss: 0.1740\n",
      "Epoch   3 Batch  260/538 - Train Accuracy: 0.8633, Validation Accuracy: 0.8686, Loss: 0.1658\n",
      "Epoch   3 Batch  280/538 - Train Accuracy: 0.9079, Validation Accuracy: 0.8764, Loss: 0.1394\n",
      "Epoch   3 Batch  300/538 - Train Accuracy: 0.8759, Validation Accuracy: 0.8967, Loss: 0.1498\n",
      "Epoch   3 Batch  320/538 - Train Accuracy: 0.9141, Validation Accuracy: 0.8915, Loss: 0.1348\n",
      "Epoch   3 Batch  340/538 - Train Accuracy: 0.8945, Validation Accuracy: 0.9023, Loss: 0.1384\n",
      "Epoch   3 Batch  360/538 - Train Accuracy: 0.8887, Validation Accuracy: 0.8961, Loss: 0.1413\n",
      "Epoch   3 Batch  380/538 - Train Accuracy: 0.9033, Validation Accuracy: 0.9022, Loss: 0.1292\n",
      "Epoch   3 Batch  400/538 - Train Accuracy: 0.9159, Validation Accuracy: 0.8935, Loss: 0.1340\n",
      "Epoch   3 Batch  420/538 - Train Accuracy: 0.9275, Validation Accuracy: 0.8997, Loss: 0.1200\n",
      "Epoch   3 Batch  440/538 - Train Accuracy: 0.8928, Validation Accuracy: 0.9078, Loss: 0.1397\n",
      "Epoch   3 Batch  460/538 - Train Accuracy: 0.8938, Validation Accuracy: 0.9061, Loss: 0.1377\n",
      "Epoch   3 Batch  480/538 - Train Accuracy: 0.9235, Validation Accuracy: 0.8951, Loss: 0.1296\n",
      "Epoch   3 Batch  500/538 - Train Accuracy: 0.9126, Validation Accuracy: 0.9022, Loss: 0.1178\n",
      "Epoch   3 Batch  520/538 - Train Accuracy: 0.9043, Validation Accuracy: 0.8908, Loss: 0.1267\n",
      "Epoch   4 Batch   20/538 - Train Accuracy: 0.9055, Validation Accuracy: 0.9123, Loss: 0.1216\n",
      "Epoch   4 Batch   40/538 - Train Accuracy: 0.9196, Validation Accuracy: 0.9183, Loss: 0.1038\n",
      "Epoch   4 Batch   60/538 - Train Accuracy: 0.9227, Validation Accuracy: 0.9142, Loss: 0.1112\n",
      "Epoch   4 Batch   80/538 - Train Accuracy: 0.9270, Validation Accuracy: 0.9086, Loss: 0.1279\n",
      "Epoch   4 Batch  100/538 - Train Accuracy: 0.9229, Validation Accuracy: 0.9215, Loss: 0.1000\n",
      "Epoch   4 Batch  120/538 - Train Accuracy: 0.9324, Validation Accuracy: 0.9141, Loss: 0.0936\n",
      "Epoch   4 Batch  140/538 - Train Accuracy: 0.8902, Validation Accuracy: 0.8883, Loss: 0.1429\n",
      "Epoch   4 Batch  160/538 - Train Accuracy: 0.9038, Validation Accuracy: 0.9125, Loss: 0.0969\n",
      "Epoch   4 Batch  180/538 - Train Accuracy: 0.9332, Validation Accuracy: 0.8999, Loss: 0.1083\n",
      "Epoch   4 Batch  200/538 - Train Accuracy: 0.9375, Validation Accuracy: 0.9174, Loss: 0.0914\n",
      "Epoch   4 Batch  220/538 - Train Accuracy: 0.9102, Validation Accuracy: 0.9093, Loss: 0.1052\n",
      "Epoch   4 Batch  240/538 - Train Accuracy: 0.9236, Validation Accuracy: 0.9144, Loss: 0.1007\n",
      "Epoch   4 Batch  260/538 - Train Accuracy: 0.8890, Validation Accuracy: 0.9135, Loss: 0.1094\n",
      "Epoch   4 Batch  280/538 - Train Accuracy: 0.9284, Validation Accuracy: 0.9150, Loss: 0.0895\n",
      "Epoch   4 Batch  300/538 - Train Accuracy: 0.9018, Validation Accuracy: 0.9313, Loss: 0.1091\n",
      "Epoch   4 Batch  320/538 - Train Accuracy: 0.9273, Validation Accuracy: 0.9098, Loss: 0.1024\n",
      "Epoch   4 Batch  340/538 - Train Accuracy: 0.9123, Validation Accuracy: 0.9181, Loss: 0.0983\n",
      "Epoch   4 Batch  360/538 - Train Accuracy: 0.9166, Validation Accuracy: 0.9267, Loss: 0.1075\n",
      "Epoch   4 Batch  380/538 - Train Accuracy: 0.9322, Validation Accuracy: 0.9190, Loss: 0.0916\n",
      "Epoch   4 Batch  400/538 - Train Accuracy: 0.9321, Validation Accuracy: 0.9084, Loss: 0.1010\n",
      "Epoch   4 Batch  420/538 - Train Accuracy: 0.9379, Validation Accuracy: 0.9245, Loss: 0.0941\n",
      "Epoch   4 Batch  440/538 - Train Accuracy: 0.9219, Validation Accuracy: 0.9306, Loss: 0.1205\n",
      "Epoch   4 Batch  460/538 - Train Accuracy: 0.9129, Validation Accuracy: 0.9235, Loss: 0.1033\n",
      "Epoch   4 Batch  480/538 - Train Accuracy: 0.9325, Validation Accuracy: 0.9165, Loss: 0.1017\n",
      "Epoch   4 Batch  500/538 - Train Accuracy: 0.9302, Validation Accuracy: 0.9354, Loss: 0.0755\n",
      "Epoch   4 Batch  520/538 - Train Accuracy: 0.9338, Validation Accuracy: 0.9263, Loss: 0.0940\n",
      "Epoch   5 Batch   20/538 - Train Accuracy: 0.9115, Validation Accuracy: 0.9341, Loss: 0.0907\n",
      "Epoch   5 Batch   40/538 - Train Accuracy: 0.9244, Validation Accuracy: 0.9354, Loss: 0.0680\n",
      "Epoch   5 Batch   60/538 - Train Accuracy: 0.9363, Validation Accuracy: 0.9002, Loss: 0.0847\n",
      "Epoch   5 Batch   80/538 - Train Accuracy: 0.9342, Validation Accuracy: 0.9293, Loss: 0.0912\n",
      "Epoch   5 Batch  100/538 - Train Accuracy: 0.9354, Validation Accuracy: 0.9279, Loss: 0.0771\n",
      "Epoch   5 Batch  120/538 - Train Accuracy: 0.9377, Validation Accuracy: 0.9320, Loss: 0.0686\n",
      "Epoch   5 Batch  140/538 - Train Accuracy: 0.9174, Validation Accuracy: 0.9114, Loss: 0.1043\n",
      "Epoch   5 Batch  160/538 - Train Accuracy: 0.9269, Validation Accuracy: 0.9224, Loss: 0.0754\n",
      "Epoch   5 Batch  180/538 - Train Accuracy: 0.9388, Validation Accuracy: 0.9174, Loss: 0.0802\n",
      "Epoch   5 Batch  200/538 - Train Accuracy: 0.9437, Validation Accuracy: 0.9325, Loss: 0.0711\n",
      "Epoch   5 Batch  220/538 - Train Accuracy: 0.9062, Validation Accuracy: 0.9279, Loss: 0.0791\n",
      "Epoch   5 Batch  240/538 - Train Accuracy: 0.9307, Validation Accuracy: 0.9190, Loss: 0.0863\n",
      "Epoch   5 Batch  260/538 - Train Accuracy: 0.9066, Validation Accuracy: 0.9270, Loss: 0.0866\n",
      "Epoch   5 Batch  280/538 - Train Accuracy: 0.9516, Validation Accuracy: 0.9252, Loss: 0.0718\n",
      "Epoch   5 Batch  300/538 - Train Accuracy: 0.9323, Validation Accuracy: 0.9359, Loss: 0.0820\n",
      "Epoch   5 Batch  320/538 - Train Accuracy: 0.9472, Validation Accuracy: 0.9324, Loss: 0.0686\n",
      "Epoch   5 Batch  340/538 - Train Accuracy: 0.9187, Validation Accuracy: 0.9412, Loss: 0.0766\n",
      "Epoch   5 Batch  360/538 - Train Accuracy: 0.9428, Validation Accuracy: 0.9446, Loss: 0.0726\n",
      "Epoch   5 Batch  380/538 - Train Accuracy: 0.9400, Validation Accuracy: 0.9313, Loss: 0.0666\n",
      "Epoch   5 Batch  400/538 - Train Accuracy: 0.9507, Validation Accuracy: 0.9279, Loss: 0.0766\n",
      "Epoch   5 Batch  420/538 - Train Accuracy: 0.9475, Validation Accuracy: 0.9329, Loss: 0.0698\n",
      "Epoch   5 Batch  440/538 - Train Accuracy: 0.9277, Validation Accuracy: 0.9228, Loss: 0.0821\n",
      "Epoch   5 Batch  460/538 - Train Accuracy: 0.9217, Validation Accuracy: 0.9212, Loss: 0.0842\n",
      "Epoch   5 Batch  480/538 - Train Accuracy: 0.9453, Validation Accuracy: 0.9318, Loss: 0.0782\n",
      "Epoch   5 Batch  500/538 - Train Accuracy: 0.9437, Validation Accuracy: 0.9258, Loss: 0.0599\n",
      "Epoch   5 Batch  520/538 - Train Accuracy: 0.9373, Validation Accuracy: 0.9309, Loss: 0.0785\n",
      "Epoch   6 Batch   20/538 - Train Accuracy: 0.9358, Validation Accuracy: 0.9240, Loss: 0.0782\n",
      "Epoch   6 Batch   40/538 - Train Accuracy: 0.9295, Validation Accuracy: 0.9235, Loss: 0.0552\n",
      "Epoch   6 Batch   60/538 - Train Accuracy: 0.9422, Validation Accuracy: 0.9265, Loss: 0.0669\n",
      "Epoch   6 Batch   80/538 - Train Accuracy: 0.9402, Validation Accuracy: 0.9354, Loss: 0.0726\n",
      "Epoch   6 Batch  100/538 - Train Accuracy: 0.9551, Validation Accuracy: 0.9373, Loss: 0.0622\n",
      "Epoch   6 Batch  120/538 - Train Accuracy: 0.9551, Validation Accuracy: 0.9393, Loss: 0.0536\n",
      "Epoch   6 Batch  140/538 - Train Accuracy: 0.9264, Validation Accuracy: 0.9341, Loss: 0.0823\n",
      "Epoch   6 Batch  160/538 - Train Accuracy: 0.9239, Validation Accuracy: 0.9315, Loss: 0.0610\n",
      "Epoch   6 Batch  180/538 - Train Accuracy: 0.9541, Validation Accuracy: 0.9197, Loss: 0.0725\n",
      "Epoch   6 Batch  200/538 - Train Accuracy: 0.9621, Validation Accuracy: 0.9137, Loss: 0.0552\n",
      "Epoch   6 Batch  220/538 - Train Accuracy: 0.9286, Validation Accuracy: 0.9350, Loss: 0.0674\n",
      "Epoch   6 Batch  240/538 - Train Accuracy: 0.9416, Validation Accuracy: 0.9462, Loss: 0.0750\n",
      "Epoch   6 Batch  260/538 - Train Accuracy: 0.9237, Validation Accuracy: 0.9306, Loss: 0.0696\n",
      "Epoch   6 Batch  280/538 - Train Accuracy: 0.9520, Validation Accuracy: 0.9382, Loss: 0.0678\n",
      "Epoch   6 Batch  300/538 - Train Accuracy: 0.9479, Validation Accuracy: 0.9313, Loss: 0.0721\n",
      "Epoch   6 Batch  320/538 - Train Accuracy: 0.9459, Validation Accuracy: 0.9395, Loss: 0.0622\n",
      "Epoch   6 Batch  340/538 - Train Accuracy: 0.9406, Validation Accuracy: 0.9377, Loss: 0.0629\n",
      "Epoch   6 Batch  360/538 - Train Accuracy: 0.9332, Validation Accuracy: 0.9522, Loss: 0.0647\n",
      "Epoch   6 Batch  380/538 - Train Accuracy: 0.9463, Validation Accuracy: 0.9334, Loss: 0.0652\n",
      "Epoch   6 Batch  400/538 - Train Accuracy: 0.9422, Validation Accuracy: 0.9318, Loss: 0.0681\n",
      "Epoch   6 Batch  420/538 - Train Accuracy: 0.9377, Validation Accuracy: 0.9448, Loss: 0.0575\n",
      "Epoch   6 Batch  440/538 - Train Accuracy: 0.9492, Validation Accuracy: 0.9567, Loss: 0.0706\n"
     ]
    },
    {
     "name": "stdout",
     "output_type": "stream",
     "text": [
      "Epoch   6 Batch  460/538 - Train Accuracy: 0.9377, Validation Accuracy: 0.9458, Loss: 0.0605\n",
      "Epoch   6 Batch  480/538 - Train Accuracy: 0.9481, Validation Accuracy: 0.9483, Loss: 0.0583\n",
      "Epoch   6 Batch  500/538 - Train Accuracy: 0.9542, Validation Accuracy: 0.9453, Loss: 0.0493\n",
      "Epoch   6 Batch  520/538 - Train Accuracy: 0.9430, Validation Accuracy: 0.9419, Loss: 0.0609\n",
      "Epoch   7 Batch   20/538 - Train Accuracy: 0.9438, Validation Accuracy: 0.9421, Loss: 0.0639\n",
      "Epoch   7 Batch   40/538 - Train Accuracy: 0.9435, Validation Accuracy: 0.9407, Loss: 0.0452\n",
      "Epoch   7 Batch   60/538 - Train Accuracy: 0.9605, Validation Accuracy: 0.9391, Loss: 0.0561\n",
      "Epoch   7 Batch   80/538 - Train Accuracy: 0.9443, Validation Accuracy: 0.9494, Loss: 0.0649\n",
      "Epoch   7 Batch  100/538 - Train Accuracy: 0.9598, Validation Accuracy: 0.9544, Loss: 0.0533\n",
      "Epoch   7 Batch  120/538 - Train Accuracy: 0.9656, Validation Accuracy: 0.9435, Loss: 0.0463\n",
      "Epoch   7 Batch  140/538 - Train Accuracy: 0.9346, Validation Accuracy: 0.9478, Loss: 0.0754\n",
      "Epoch   7 Batch  160/538 - Train Accuracy: 0.9321, Validation Accuracy: 0.9512, Loss: 0.0496\n",
      "Epoch   7 Batch  180/538 - Train Accuracy: 0.9576, Validation Accuracy: 0.9464, Loss: 0.0627\n",
      "Epoch   7 Batch  200/538 - Train Accuracy: 0.9637, Validation Accuracy: 0.9393, Loss: 0.0425\n",
      "Epoch   7 Batch  220/538 - Train Accuracy: 0.9282, Validation Accuracy: 0.9434, Loss: 0.0591\n",
      "Epoch   7 Batch  240/538 - Train Accuracy: 0.9479, Validation Accuracy: 0.9542, Loss: 0.0699\n",
      "Epoch   7 Batch  260/538 - Train Accuracy: 0.9267, Validation Accuracy: 0.9476, Loss: 0.0649\n",
      "Epoch   7 Batch  280/538 - Train Accuracy: 0.9503, Validation Accuracy: 0.9421, Loss: 0.0496\n",
      "Epoch   7 Batch  300/538 - Train Accuracy: 0.9427, Validation Accuracy: 0.9466, Loss: 0.0566\n",
      "Epoch   7 Batch  320/538 - Train Accuracy: 0.9647, Validation Accuracy: 0.9458, Loss: 0.0520\n",
      "Epoch   7 Batch  340/538 - Train Accuracy: 0.9463, Validation Accuracy: 0.9432, Loss: 0.0539\n",
      "Epoch   7 Batch  360/538 - Train Accuracy: 0.9404, Validation Accuracy: 0.9517, Loss: 0.0516\n",
      "Epoch   7 Batch  380/538 - Train Accuracy: 0.9492, Validation Accuracy: 0.9430, Loss: 0.0553\n",
      "Epoch   7 Batch  400/538 - Train Accuracy: 0.9630, Validation Accuracy: 0.9375, Loss: 0.0509\n",
      "Epoch   7 Batch  420/538 - Train Accuracy: 0.9672, Validation Accuracy: 0.9542, Loss: 0.0544\n",
      "Epoch   7 Batch  440/538 - Train Accuracy: 0.9486, Validation Accuracy: 0.9576, Loss: 0.0607\n",
      "Epoch   7 Batch  460/538 - Train Accuracy: 0.9368, Validation Accuracy: 0.9583, Loss: 0.0611\n",
      "Epoch   7 Batch  480/538 - Train Accuracy: 0.9643, Validation Accuracy: 0.9521, Loss: 0.0490\n",
      "Epoch   7 Batch  500/538 - Train Accuracy: 0.9606, Validation Accuracy: 0.9535, Loss: 0.0404\n",
      "Epoch   7 Batch  520/538 - Train Accuracy: 0.9609, Validation Accuracy: 0.9501, Loss: 0.0453\n",
      "Epoch   8 Batch   20/538 - Train Accuracy: 0.9639, Validation Accuracy: 0.9522, Loss: 0.0556\n",
      "Epoch   8 Batch   40/538 - Train Accuracy: 0.9503, Validation Accuracy: 0.9503, Loss: 0.0425\n",
      "Epoch   8 Batch   60/538 - Train Accuracy: 0.9564, Validation Accuracy: 0.9542, Loss: 0.0422\n",
      "Epoch   8 Batch   80/538 - Train Accuracy: 0.9570, Validation Accuracy: 0.9533, Loss: 0.0491\n",
      "Epoch   8 Batch  100/538 - Train Accuracy: 0.9795, Validation Accuracy: 0.9567, Loss: 0.0407\n",
      "Epoch   8 Batch  120/538 - Train Accuracy: 0.9553, Validation Accuracy: 0.9622, Loss: 0.0399\n",
      "Epoch   8 Batch  140/538 - Train Accuracy: 0.9484, Validation Accuracy: 0.9489, Loss: 0.0687\n",
      "Epoch   8 Batch  160/538 - Train Accuracy: 0.9388, Validation Accuracy: 0.9556, Loss: 0.0468\n",
      "Epoch   8 Batch  180/538 - Train Accuracy: 0.9533, Validation Accuracy: 0.9471, Loss: 0.0521\n",
      "Epoch   8 Batch  200/538 - Train Accuracy: 0.9699, Validation Accuracy: 0.9490, Loss: 0.0392\n",
      "Epoch   8 Batch  220/538 - Train Accuracy: 0.9479, Validation Accuracy: 0.9574, Loss: 0.0457\n",
      "Epoch   8 Batch  240/538 - Train Accuracy: 0.9510, Validation Accuracy: 0.9457, Loss: 0.0541\n",
      "Epoch   8 Batch  260/538 - Train Accuracy: 0.9306, Validation Accuracy: 0.9540, Loss: 0.0579\n",
      "Epoch   8 Batch  280/538 - Train Accuracy: 0.9581, Validation Accuracy: 0.9522, Loss: 0.0445\n",
      "Epoch   8 Batch  300/538 - Train Accuracy: 0.9397, Validation Accuracy: 0.9576, Loss: 0.0528\n",
      "Epoch   8 Batch  320/538 - Train Accuracy: 0.9702, Validation Accuracy: 0.9574, Loss: 0.0463\n",
      "Epoch   8 Batch  340/538 - Train Accuracy: 0.9484, Validation Accuracy: 0.9503, Loss: 0.0496\n",
      "Epoch   8 Batch  360/538 - Train Accuracy: 0.9541, Validation Accuracy: 0.9631, Loss: 0.0481\n",
      "Epoch   8 Batch  380/538 - Train Accuracy: 0.9457, Validation Accuracy: 0.9640, Loss: 0.0455\n",
      "Epoch   8 Batch  400/538 - Train Accuracy: 0.9624, Validation Accuracy: 0.9583, Loss: 0.0551\n",
      "Epoch   8 Batch  420/538 - Train Accuracy: 0.9549, Validation Accuracy: 0.9613, Loss: 0.0525\n",
      "Epoch   8 Batch  440/538 - Train Accuracy: 0.9660, Validation Accuracy: 0.9599, Loss: 0.0524\n",
      "Epoch   8 Batch  460/538 - Train Accuracy: 0.9474, Validation Accuracy: 0.9629, Loss: 0.0472\n",
      "Epoch   8 Batch  480/538 - Train Accuracy: 0.9624, Validation Accuracy: 0.9624, Loss: 0.0477\n",
      "Epoch   8 Batch  500/538 - Train Accuracy: 0.9695, Validation Accuracy: 0.9561, Loss: 0.0417\n",
      "Epoch   8 Batch  520/538 - Train Accuracy: 0.9549, Validation Accuracy: 0.9572, Loss: 0.0531\n",
      "Epoch   9 Batch   20/538 - Train Accuracy: 0.9589, Validation Accuracy: 0.9482, Loss: 0.0534\n",
      "Epoch   9 Batch   40/538 - Train Accuracy: 0.9673, Validation Accuracy: 0.9540, Loss: 0.0368\n",
      "Epoch   9 Batch   60/538 - Train Accuracy: 0.9664, Validation Accuracy: 0.9648, Loss: 0.0402\n",
      "Epoch   9 Batch   80/538 - Train Accuracy: 0.9539, Validation Accuracy: 0.9577, Loss: 0.0545\n",
      "Epoch   9 Batch  100/538 - Train Accuracy: 0.9664, Validation Accuracy: 0.9613, Loss: 0.0358\n",
      "Epoch   9 Batch  120/538 - Train Accuracy: 0.9713, Validation Accuracy: 0.9645, Loss: 0.0370\n",
      "Epoch   9 Batch  140/538 - Train Accuracy: 0.9523, Validation Accuracy: 0.9627, Loss: 0.0654\n",
      "Epoch   9 Batch  160/538 - Train Accuracy: 0.9515, Validation Accuracy: 0.9583, Loss: 0.0359\n",
      "Epoch   9 Batch  180/538 - Train Accuracy: 0.9522, Validation Accuracy: 0.9503, Loss: 0.0426\n",
      "Epoch   9 Batch  200/538 - Train Accuracy: 0.9721, Validation Accuracy: 0.9537, Loss: 0.0344\n",
      "Epoch   9 Batch  220/538 - Train Accuracy: 0.9345, Validation Accuracy: 0.9576, Loss: 0.0395\n",
      "Epoch   9 Batch  240/538 - Train Accuracy: 0.9639, Validation Accuracy: 0.9565, Loss: 0.0469\n",
      "Epoch   9 Batch  260/538 - Train Accuracy: 0.9474, Validation Accuracy: 0.9549, Loss: 0.0507\n",
      "Epoch   9 Batch  280/538 - Train Accuracy: 0.9619, Validation Accuracy: 0.9625, Loss: 0.0408\n",
      "Epoch   9 Batch  300/538 - Train Accuracy: 0.9531, Validation Accuracy: 0.9693, Loss: 0.0472\n",
      "Epoch   9 Batch  320/538 - Train Accuracy: 0.9691, Validation Accuracy: 0.9615, Loss: 0.0415\n",
      "Epoch   9 Batch  340/538 - Train Accuracy: 0.9625, Validation Accuracy: 0.9622, Loss: 0.0396\n",
      "Epoch   9 Batch  360/538 - Train Accuracy: 0.9535, Validation Accuracy: 0.9682, Loss: 0.0398\n",
      "Epoch   9 Batch  380/538 - Train Accuracy: 0.9816, Validation Accuracy: 0.9675, Loss: 0.0368\n",
      "Epoch   9 Batch  400/538 - Train Accuracy: 0.9634, Validation Accuracy: 0.9640, Loss: 0.0465\n",
      "Epoch   9 Batch  420/538 - Train Accuracy: 0.9568, Validation Accuracy: 0.9442, Loss: 0.0363\n",
      "Epoch   9 Batch  440/538 - Train Accuracy: 0.9730, Validation Accuracy: 0.9638, Loss: 0.0413\n",
      "Epoch   9 Batch  460/538 - Train Accuracy: 0.9472, Validation Accuracy: 0.9664, Loss: 0.0461\n",
      "Epoch   9 Batch  480/538 - Train Accuracy: 0.9701, Validation Accuracy: 0.9464, Loss: 0.0376\n",
      "Epoch   9 Batch  500/538 - Train Accuracy: 0.9766, Validation Accuracy: 0.9641, Loss: 0.0298\n",
      "Epoch   9 Batch  520/538 - Train Accuracy: 0.9646, Validation Accuracy: 0.9585, Loss: 0.0401\n",
      "Model Trained and Saved\n"
     ]
    }
   ],
   "source": [
    "\"\"\"\n",
    "DON'T MODIFY ANYTHING IN THIS CELL\n",
    "\"\"\"\n",
    "def get_accuracy(target, logits):\n",
    "    \"\"\"\n",
    "    Calculate accuracy\n",
    "    \"\"\"\n",
    "    max_seq = max(target.shape[1], logits.shape[1])\n",
    "    if max_seq - target.shape[1]:\n",
    "        target = np.pad(\n",
    "            target,\n",
    "            [(0,0),(0,max_seq - target.shape[1])],\n",
    "            'constant')\n",
    "    if max_seq - logits.shape[1]:\n",
    "        logits = np.pad(\n",
    "            logits,\n",
    "            [(0,0),(0,max_seq - logits.shape[1])],\n",
    "            'constant')\n",
    "\n",
    "    return np.mean(np.equal(target, logits))\n",
    "\n",
    "# Split data to training and validation sets\n",
    "train_source = source_int_text[batch_size:]\n",
    "train_target = target_int_text[batch_size:]\n",
    "valid_source = source_int_text[:batch_size]\n",
    "valid_target = target_int_text[:batch_size]\n",
    "(valid_sources_batch, valid_targets_batch, valid_sources_lengths, valid_targets_lengths ) = next(get_batches(valid_source,\n",
    "                                                                                                             valid_target,\n",
    "                                                                                                             batch_size,\n",
    "                                                                                                             source_vocab_to_int['<PAD>'],\n",
    "                                                                                                             target_vocab_to_int['<PAD>']))                                                                                                  \n",
    "with tf.Session(graph=train_graph) as sess:\n",
    "    sess.run(tf.global_variables_initializer())\n",
    "\n",
    "    for epoch_i in range(epochs):\n",
    "        for batch_i, (source_batch, target_batch, sources_lengths, targets_lengths) in enumerate(\n",
    "                get_batches(train_source, train_target, batch_size,\n",
    "                            source_vocab_to_int['<PAD>'],\n",
    "                            target_vocab_to_int['<PAD>'])):\n",
    "\n",
    "            _, loss = sess.run(\n",
    "                [train_op, cost],\n",
    "                {input_data: source_batch,\n",
    "                 targets: target_batch,\n",
    "                 lr: learning_rate,\n",
    "                 target_sequence_length: targets_lengths,\n",
    "                 source_sequence_length: sources_lengths,\n",
    "                 keep_prob: keep_probability})\n",
    "\n",
    "\n",
    "            if batch_i % display_step == 0 and batch_i > 0:\n",
    "\n",
    "\n",
    "                batch_train_logits = sess.run(\n",
    "                    inference_logits,\n",
    "                    {input_data: source_batch,\n",
    "                     source_sequence_length: sources_lengths,\n",
    "                     target_sequence_length: targets_lengths,\n",
    "                     keep_prob: 1.0})\n",
    "\n",
    "\n",
    "                batch_valid_logits = sess.run(\n",
    "                    inference_logits,\n",
    "                    {input_data: valid_sources_batch,\n",
    "                     source_sequence_length: valid_sources_lengths,\n",
    "                     target_sequence_length: valid_targets_lengths,\n",
    "                     keep_prob: 1.0})\n",
    "\n",
    "                train_acc = get_accuracy(target_batch, batch_train_logits)\n",
    "\n",
    "                valid_acc = get_accuracy(valid_targets_batch, batch_valid_logits)\n",
    "\n",
    "                print('Epoch {:>3} Batch {:>4}/{} - Train Accuracy: {:>6.4f}, Validation Accuracy: {:>6.4f}, Loss: {:>6.4f}'\n",
    "                      .format(epoch_i, batch_i, len(source_int_text) // batch_size, train_acc, valid_acc, loss))\n",
    "\n",
    "    # Save Model\n",
    "    saver = tf.train.Saver()\n",
    "    saver.save(sess, save_path)\n",
    "    print('Model Trained and Saved')"
   ]
  },
  {
   "cell_type": "markdown",
   "metadata": {},
   "source": [
    "### Save Parameters\n",
    "Save the `batch_size` and `save_path` parameters for inference."
   ]
  },
  {
   "cell_type": "code",
   "execution_count": 46,
   "metadata": {
    "collapsed": true
   },
   "outputs": [],
   "source": [
    "\"\"\"\n",
    "DON'T MODIFY ANYTHING IN THIS CELL\n",
    "\"\"\"\n",
    "# Save parameters for checkpoint\n",
    "helper.save_params(save_path)"
   ]
  },
  {
   "cell_type": "markdown",
   "metadata": {},
   "source": [
    "# Checkpoint"
   ]
  },
  {
   "cell_type": "code",
   "execution_count": 47,
   "metadata": {
    "collapsed": true
   },
   "outputs": [],
   "source": [
    "\"\"\"\n",
    "DON'T MODIFY ANYTHING IN THIS CELL\n",
    "\"\"\"\n",
    "import tensorflow as tf\n",
    "import numpy as np\n",
    "import helper\n",
    "import problem_unittests as tests\n",
    "\n",
    "_, (source_vocab_to_int, target_vocab_to_int), (source_int_to_vocab, target_int_to_vocab) = helper.load_preprocess()\n",
    "load_path = helper.load_params()"
   ]
  },
  {
   "cell_type": "markdown",
   "metadata": {},
   "source": [
    "## Sentence to Sequence\n",
    "To feed a sentence into the model for translation, you first need to preprocess it.  Implement the function `sentence_to_seq()` to preprocess new sentences.\n",
    "\n",
    "- Convert the sentence to lowercase\n",
    "- Convert words into ids using `vocab_to_int`\n",
    " - Convert words not in the vocabulary, to the `<UNK>` word id."
   ]
  },
  {
   "cell_type": "code",
   "execution_count": 48,
   "metadata": {},
   "outputs": [
    {
     "name": "stdout",
     "output_type": "stream",
     "text": [
      "Tests Passed\n"
     ]
    }
   ],
   "source": [
    "def sentence_to_seq(sentence, vocab_to_int):\n",
    "    \"\"\"\n",
    "    Convert a sentence to a sequence of ids\n",
    "    :param sentence: String\n",
    "    :param vocab_to_int: Dictionary to go from the words to an id\n",
    "    :return: List of word ids\n",
    "    \"\"\"\n",
    "    # TODO: Implement Function\n",
    "    sentence = sentence.lower()\n",
    "    sentence_ids = [vocab_to_int[word] if word in vocab_to_int.keys() \n",
    "                    else vocab_to_int['<UNK>'] for word in sentence.lower().split() ]\n",
    "    return sentence_ids\n",
    "\n",
    "\n",
    "\"\"\"\n",
    "DON'T MODIFY ANYTHING IN THIS CELL THAT IS BELOW THIS LINE\n",
    "\"\"\"\n",
    "tests.test_sentence_to_seq(sentence_to_seq)"
   ]
  },
  {
   "cell_type": "markdown",
   "metadata": {},
   "source": [
    "## Translate\n",
    "This will translate `translate_sentence` from English to French."
   ]
  },
  {
   "cell_type": "code",
   "execution_count": 49,
   "metadata": {},
   "outputs": [
    {
     "name": "stdout",
     "output_type": "stream",
     "text": [
      "INFO:tensorflow:Restoring parameters from checkpoints/dev\n",
      "Input\n",
      "  Word Ids:      [49, 107, 19, 217, 135, 226, 43]\n",
      "  English Words: ['he', 'saw', 'a', 'old', 'yellow', 'truck', '.']\n",
      "\n",
      "Prediction\n",
      "  Word Ids:      [315, 275, 296, 93, 353, 226, 81, 178, 1]\n",
      "  French Words: il a vu un vieux camion jaune . <EOS>\n"
     ]
    }
   ],
   "source": [
    "translate_sentence = 'he saw a old yellow truck .'\n",
    "\n",
    "\n",
    "\"\"\"\n",
    "DON'T MODIFY ANYTHING IN THIS CELL\n",
    "\"\"\"\n",
    "translate_sentence = sentence_to_seq(translate_sentence, source_vocab_to_int)\n",
    "\n",
    "loaded_graph = tf.Graph()\n",
    "with tf.Session(graph=loaded_graph) as sess:\n",
    "    # Load saved model\n",
    "    loader = tf.train.import_meta_graph(load_path + '.meta')\n",
    "    loader.restore(sess, load_path)\n",
    "\n",
    "    input_data = loaded_graph.get_tensor_by_name('input:0')\n",
    "    logits = loaded_graph.get_tensor_by_name('predictions:0')\n",
    "    target_sequence_length = loaded_graph.get_tensor_by_name('target_sequence_length:0')\n",
    "    source_sequence_length = loaded_graph.get_tensor_by_name('source_sequence_length:0')\n",
    "    keep_prob = loaded_graph.get_tensor_by_name('keep_prob:0')\n",
    "\n",
    "    translate_logits = sess.run(logits, {input_data: [translate_sentence]*batch_size,\n",
    "                                         target_sequence_length: [len(translate_sentence)*2]*batch_size,\n",
    "                                         source_sequence_length: [len(translate_sentence)]*batch_size,\n",
    "                                         keep_prob: 1.0})[0]\n",
    "\n",
    "print('Input')\n",
    "print('  Word Ids:      {}'.format([i for i in translate_sentence]))\n",
    "print('  English Words: {}'.format([source_int_to_vocab[i] for i in translate_sentence]))\n",
    "\n",
    "print('\\nPrediction')\n",
    "print('  Word Ids:      {}'.format([i for i in translate_logits]))\n",
    "print('  French Words: {}'.format(\" \".join([target_int_to_vocab[i] for i in translate_logits])))\n"
   ]
  },
  {
   "cell_type": "markdown",
   "metadata": {},
   "source": [
    "## Imperfect Translation\n",
    "You might notice that some sentences translate better than others.  Since the dataset you're using only has a vocabulary of 227 English words of the thousands that you use, you're only going to see good results using these words.  For this project, you don't need a perfect translation. However, if you want to create a better translation model, you'll need better data.\n",
    "\n",
    "You can train on the [WMT10 French-English corpus](http://www.statmt.org/wmt10/training-giga-fren.tar).  This dataset has more vocabulary and richer in topics discussed.  However, this will take you days to train, so make sure you've a GPU and the neural network is performing well on dataset we provided.  Just make sure you play with the WMT10 corpus after you've submitted this project.\n",
    "## Submitting This Project\n",
    "When submitting this project, make sure to run all the cells before saving the notebook. Save the notebook file as \"dlnd_language_translation.ipynb\" and save it as a HTML file under \"File\" -> \"Download as\". Include the \"helper.py\" and \"problem_unittests.py\" files in your submission."
   ]
  },
  {
   "cell_type": "code",
   "execution_count": null,
   "metadata": {
    "collapsed": true
   },
   "outputs": [],
   "source": []
  }
 ],
 "metadata": {
  "anaconda-cloud": {},
  "kernelspec": {
   "display_name": "Python 3",
   "language": "python",
   "name": "python3"
  },
  "language_info": {
   "codemirror_mode": {
    "name": "ipython",
    "version": 3
   },
   "file_extension": ".py",
   "mimetype": "text/x-python",
   "name": "python",
   "nbconvert_exporter": "python",
   "pygments_lexer": "ipython3",
   "version": "3.6.0"
  }
 },
 "nbformat": 4,
 "nbformat_minor": 1
}
